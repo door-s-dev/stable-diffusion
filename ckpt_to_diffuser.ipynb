{
  "nbformat": 4,
  "nbformat_minor": 0,
  "metadata": {
    "colab": {
      "provenance": [],
      "authorship_tag": "ABX9TyME7vE6KdLKLapVWMTQM02J",
      "include_colab_link": true
    },
    "kernelspec": {
      "name": "python3",
      "display_name": "Python 3"
    },
    "language_info": {
      "name": "python"
    }
  },
  "cells": [
    {
      "cell_type": "markdown",
      "metadata": {
        "id": "view-in-github",
        "colab_type": "text"
      },
      "source": [
        "<a href=\"https://colab.research.google.com/github/fladdict/stable-diffusion/blob/main/ckpt_to_diffuser.ipynb\" target=\"_parent\"><img src=\"https://colab.research.google.com/assets/colab-badge.svg\" alt=\"Open In Colab\"/></a>"
      ]
    },
    {
      "cell_type": "markdown",
      "source": [
        "#Convert CKPT file to diffuser format\n",
        "\n",
        "convert ckpt file to diffser format. so you can load dreambooth file to diffuser"
      ],
      "metadata": {
        "id": "M2EI0rePZZVM"
      }
    },
    {
      "cell_type": "code",
      "source": [
        "from google.colab import drive\n",
        "drive.mount('/content/drive')"
      ],
      "metadata": {
        "colab": {
          "base_uri": "https://localhost:8080/"
        },
        "id": "k6f-3fZTUFI0",
        "outputId": "49de0b49-1fbf-4cff-afca-601fd6e8ba73"
      },
      "execution_count": 1,
      "outputs": [
        {
          "output_type": "stream",
          "name": "stdout",
          "text": [
            "Mounted at /content/drive\n"
          ]
        }
      ]
    },
    {
      "cell_type": "code",
      "execution_count": null,
      "metadata": {
        "id": "KXKLL-0sUAta"
      },
      "outputs": [],
      "source": [
        "!pip install diffusers==0.4.0 transformers, omegaconf\n",
        "\n",
        "!git clone https://github.com/huggingface/diffusers\n",
        "!git clone https://github.com/CompVis/stable-diffusion"
      ]
    },
    {
      "cell_type": "code",
      "source": [
        "checkpoint_path = \"/content/drive/MyDrive/AI/models/stable_diffusion/sd-takayuki/2022-10-05T05-04-53_takayuki_72_training_images_1000_max_training_steps_person_class_word.ckpt\" #@param {type:\"string\"}\n",
        "output_path = \"/content/drive/MyDrive/AI/models/stable_diffusion/sd-takayuki/diffusers\" #@param {type:\"string\"}\n",
        "#original_config_file = \" https://github.com/CompVis/stable-diffusion/blob/main/configs/stable-diffusion/v1-inference.yaml\" #@param {type:\"string\"}\n",
        "\n",
        "!python /content/diffusers/scripts/convert_original_stable_diffusion_to_diffusers.py --checkpoint_path $checkpoint_path --dump_path $output_path\n",
        " \n",
        "\n",
        "\n"
      ],
      "metadata": {
        "id": "2_N-BqvsUEKU"
      },
      "execution_count": null,
      "outputs": []
    }
  ]
}
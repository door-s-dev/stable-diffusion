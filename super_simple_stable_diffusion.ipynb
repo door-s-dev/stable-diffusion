{
  "nbformat": 4,
  "nbformat_minor": 0,
  "metadata": {
    "colab": {
      "provenance": [],
      "collapsed_sections": [],
      "mount_file_id": "1uEudBpPDvJd4vIZccypCcjCpxdYRTmQX",
      "authorship_tag": "ABX9TyPdZW5x0uxbcLhU5PI0kuSk",
      "include_colab_link": true
    },
    "kernelspec": {
      "name": "python3",
      "display_name": "Python 3"
    },
    "language_info": {
      "name": "python"
    },
    "accelerator": "GPU",
    "gpuClass": "standard",
    "widgets": {
      "application/vnd.jupyter.widget-state+json": {
        "0bcfc35ae2734382a5e39be681f30897": {
          "model_module": "@jupyter-widgets/controls",
          "model_name": "VBoxModel",
          "model_module_version": "1.5.0",
          "state": {
            "_dom_classes": [],
            "_model_module": "@jupyter-widgets/controls",
            "_model_module_version": "1.5.0",
            "_model_name": "VBoxModel",
            "_view_count": null,
            "_view_module": "@jupyter-widgets/controls",
            "_view_module_version": "1.5.0",
            "_view_name": "VBoxView",
            "box_style": "",
            "children": [
              "IPY_MODEL_93728f7261cd478f957412f94d6e9321",
              "IPY_MODEL_282a6479c62949f98d10e12cd58cc958",
              "IPY_MODEL_b3d692ebf3174d3b9844318be0d7cd9c",
              "IPY_MODEL_93fa24a53d714aaeb9ec956947ca561f"
            ],
            "layout": "IPY_MODEL_ad68ff72b14a4e8997274f3b6fba30e6"
          }
        },
        "93728f7261cd478f957412f94d6e9321": {
          "model_module": "@jupyter-widgets/controls",
          "model_name": "HTMLModel",
          "model_module_version": "1.5.0",
          "state": {
            "_dom_classes": [],
            "_model_module": "@jupyter-widgets/controls",
            "_model_module_version": "1.5.0",
            "_model_name": "HTMLModel",
            "_view_count": null,
            "_view_module": "@jupyter-widgets/controls",
            "_view_module_version": "1.5.0",
            "_view_name": "HTMLView",
            "description": "",
            "description_tooltip": null,
            "layout": "IPY_MODEL_bd02c848396e41d6ac95e7435d15db95",
            "placeholder": "​",
            "style": "IPY_MODEL_0d2500ea06b142c0a4c5290d414d6713",
            "value": "<center> <img\nsrc=https://huggingface.co/front/assets/huggingface_logo-noborder.svg\nalt='Hugging Face'> <br> Copy a token from <a\nhref=\"https://huggingface.co/settings/tokens\" target=\"_blank\">your Hugging Face\ntokens page</a> and paste it below. <br> Immediately click login after copying\nyour token or it might be stored in plain text in this notebook file. </center>"
          }
        },
        "282a6479c62949f98d10e12cd58cc958": {
          "model_module": "@jupyter-widgets/controls",
          "model_name": "PasswordModel",
          "model_module_version": "1.5.0",
          "state": {
            "_dom_classes": [],
            "_model_module": "@jupyter-widgets/controls",
            "_model_module_version": "1.5.0",
            "_model_name": "PasswordModel",
            "_view_count": null,
            "_view_module": "@jupyter-widgets/controls",
            "_view_module_version": "1.5.0",
            "_view_name": "PasswordView",
            "continuous_update": true,
            "description": "Token:",
            "description_tooltip": null,
            "disabled": false,
            "layout": "IPY_MODEL_edaf9dab6cc74d9789ee77130d513216",
            "placeholder": "​",
            "style": "IPY_MODEL_11f9649d96c0416ba87874b4ee08de87",
            "value": ""
          }
        },
        "b3d692ebf3174d3b9844318be0d7cd9c": {
          "model_module": "@jupyter-widgets/controls",
          "model_name": "ButtonModel",
          "model_module_version": "1.5.0",
          "state": {
            "_dom_classes": [],
            "_model_module": "@jupyter-widgets/controls",
            "_model_module_version": "1.5.0",
            "_model_name": "ButtonModel",
            "_view_count": null,
            "_view_module": "@jupyter-widgets/controls",
            "_view_module_version": "1.5.0",
            "_view_name": "ButtonView",
            "button_style": "",
            "description": "Login",
            "disabled": false,
            "icon": "",
            "layout": "IPY_MODEL_03a7c742cdd6444285572d9223c0e39b",
            "style": "IPY_MODEL_fbb9bf80e362481e91da04d68507b2a2",
            "tooltip": ""
          }
        },
        "93fa24a53d714aaeb9ec956947ca561f": {
          "model_module": "@jupyter-widgets/controls",
          "model_name": "HTMLModel",
          "model_module_version": "1.5.0",
          "state": {
            "_dom_classes": [],
            "_model_module": "@jupyter-widgets/controls",
            "_model_module_version": "1.5.0",
            "_model_name": "HTMLModel",
            "_view_count": null,
            "_view_module": "@jupyter-widgets/controls",
            "_view_module_version": "1.5.0",
            "_view_name": "HTMLView",
            "description": "",
            "description_tooltip": null,
            "layout": "IPY_MODEL_650365e66cb54236b06c4084f301f570",
            "placeholder": "​",
            "style": "IPY_MODEL_aa57cea39d0f4b9a800e5b675a51cad5",
            "value": "\n<b>Pro Tip:</b> If you don't already have one, you can create a dedicated\n'notebooks' token with 'write' access, that you can then easily reuse for all\nnotebooks. </center>"
          }
        },
        "ad68ff72b14a4e8997274f3b6fba30e6": {
          "model_module": "@jupyter-widgets/base",
          "model_name": "LayoutModel",
          "model_module_version": "1.2.0",
          "state": {
            "_model_module": "@jupyter-widgets/base",
            "_model_module_version": "1.2.0",
            "_model_name": "LayoutModel",
            "_view_count": null,
            "_view_module": "@jupyter-widgets/base",
            "_view_module_version": "1.2.0",
            "_view_name": "LayoutView",
            "align_content": null,
            "align_items": "center",
            "align_self": null,
            "border": null,
            "bottom": null,
            "display": "flex",
            "flex": null,
            "flex_flow": "column",
            "grid_area": null,
            "grid_auto_columns": null,
            "grid_auto_flow": null,
            "grid_auto_rows": null,
            "grid_column": null,
            "grid_gap": null,
            "grid_row": null,
            "grid_template_areas": null,
            "grid_template_columns": null,
            "grid_template_rows": null,
            "height": null,
            "justify_content": null,
            "justify_items": null,
            "left": null,
            "margin": null,
            "max_height": null,
            "max_width": null,
            "min_height": null,
            "min_width": null,
            "object_fit": null,
            "object_position": null,
            "order": null,
            "overflow": null,
            "overflow_x": null,
            "overflow_y": null,
            "padding": null,
            "right": null,
            "top": null,
            "visibility": null,
            "width": "50%"
          }
        },
        "bd02c848396e41d6ac95e7435d15db95": {
          "model_module": "@jupyter-widgets/base",
          "model_name": "LayoutModel",
          "model_module_version": "1.2.0",
          "state": {
            "_model_module": "@jupyter-widgets/base",
            "_model_module_version": "1.2.0",
            "_model_name": "LayoutModel",
            "_view_count": null,
            "_view_module": "@jupyter-widgets/base",
            "_view_module_version": "1.2.0",
            "_view_name": "LayoutView",
            "align_content": null,
            "align_items": null,
            "align_self": null,
            "border": null,
            "bottom": null,
            "display": null,
            "flex": null,
            "flex_flow": null,
            "grid_area": null,
            "grid_auto_columns": null,
            "grid_auto_flow": null,
            "grid_auto_rows": null,
            "grid_column": null,
            "grid_gap": null,
            "grid_row": null,
            "grid_template_areas": null,
            "grid_template_columns": null,
            "grid_template_rows": null,
            "height": null,
            "justify_content": null,
            "justify_items": null,
            "left": null,
            "margin": null,
            "max_height": null,
            "max_width": null,
            "min_height": null,
            "min_width": null,
            "object_fit": null,
            "object_position": null,
            "order": null,
            "overflow": null,
            "overflow_x": null,
            "overflow_y": null,
            "padding": null,
            "right": null,
            "top": null,
            "visibility": null,
            "width": null
          }
        },
        "0d2500ea06b142c0a4c5290d414d6713": {
          "model_module": "@jupyter-widgets/controls",
          "model_name": "DescriptionStyleModel",
          "model_module_version": "1.5.0",
          "state": {
            "_model_module": "@jupyter-widgets/controls",
            "_model_module_version": "1.5.0",
            "_model_name": "DescriptionStyleModel",
            "_view_count": null,
            "_view_module": "@jupyter-widgets/base",
            "_view_module_version": "1.2.0",
            "_view_name": "StyleView",
            "description_width": ""
          }
        },
        "edaf9dab6cc74d9789ee77130d513216": {
          "model_module": "@jupyter-widgets/base",
          "model_name": "LayoutModel",
          "model_module_version": "1.2.0",
          "state": {
            "_model_module": "@jupyter-widgets/base",
            "_model_module_version": "1.2.0",
            "_model_name": "LayoutModel",
            "_view_count": null,
            "_view_module": "@jupyter-widgets/base",
            "_view_module_version": "1.2.0",
            "_view_name": "LayoutView",
            "align_content": null,
            "align_items": null,
            "align_self": null,
            "border": null,
            "bottom": null,
            "display": null,
            "flex": null,
            "flex_flow": null,
            "grid_area": null,
            "grid_auto_columns": null,
            "grid_auto_flow": null,
            "grid_auto_rows": null,
            "grid_column": null,
            "grid_gap": null,
            "grid_row": null,
            "grid_template_areas": null,
            "grid_template_columns": null,
            "grid_template_rows": null,
            "height": null,
            "justify_content": null,
            "justify_items": null,
            "left": null,
            "margin": null,
            "max_height": null,
            "max_width": null,
            "min_height": null,
            "min_width": null,
            "object_fit": null,
            "object_position": null,
            "order": null,
            "overflow": null,
            "overflow_x": null,
            "overflow_y": null,
            "padding": null,
            "right": null,
            "top": null,
            "visibility": null,
            "width": null
          }
        },
        "11f9649d96c0416ba87874b4ee08de87": {
          "model_module": "@jupyter-widgets/controls",
          "model_name": "DescriptionStyleModel",
          "model_module_version": "1.5.0",
          "state": {
            "_model_module": "@jupyter-widgets/controls",
            "_model_module_version": "1.5.0",
            "_model_name": "DescriptionStyleModel",
            "_view_count": null,
            "_view_module": "@jupyter-widgets/base",
            "_view_module_version": "1.2.0",
            "_view_name": "StyleView",
            "description_width": ""
          }
        },
        "03a7c742cdd6444285572d9223c0e39b": {
          "model_module": "@jupyter-widgets/base",
          "model_name": "LayoutModel",
          "model_module_version": "1.2.0",
          "state": {
            "_model_module": "@jupyter-widgets/base",
            "_model_module_version": "1.2.0",
            "_model_name": "LayoutModel",
            "_view_count": null,
            "_view_module": "@jupyter-widgets/base",
            "_view_module_version": "1.2.0",
            "_view_name": "LayoutView",
            "align_content": null,
            "align_items": null,
            "align_self": null,
            "border": null,
            "bottom": null,
            "display": null,
            "flex": null,
            "flex_flow": null,
            "grid_area": null,
            "grid_auto_columns": null,
            "grid_auto_flow": null,
            "grid_auto_rows": null,
            "grid_column": null,
            "grid_gap": null,
            "grid_row": null,
            "grid_template_areas": null,
            "grid_template_columns": null,
            "grid_template_rows": null,
            "height": null,
            "justify_content": null,
            "justify_items": null,
            "left": null,
            "margin": null,
            "max_height": null,
            "max_width": null,
            "min_height": null,
            "min_width": null,
            "object_fit": null,
            "object_position": null,
            "order": null,
            "overflow": null,
            "overflow_x": null,
            "overflow_y": null,
            "padding": null,
            "right": null,
            "top": null,
            "visibility": null,
            "width": null
          }
        },
        "fbb9bf80e362481e91da04d68507b2a2": {
          "model_module": "@jupyter-widgets/controls",
          "model_name": "ButtonStyleModel",
          "model_module_version": "1.5.0",
          "state": {
            "_model_module": "@jupyter-widgets/controls",
            "_model_module_version": "1.5.0",
            "_model_name": "ButtonStyleModel",
            "_view_count": null,
            "_view_module": "@jupyter-widgets/base",
            "_view_module_version": "1.2.0",
            "_view_name": "StyleView",
            "button_color": null,
            "font_weight": ""
          }
        },
        "650365e66cb54236b06c4084f301f570": {
          "model_module": "@jupyter-widgets/base",
          "model_name": "LayoutModel",
          "model_module_version": "1.2.0",
          "state": {
            "_model_module": "@jupyter-widgets/base",
            "_model_module_version": "1.2.0",
            "_model_name": "LayoutModel",
            "_view_count": null,
            "_view_module": "@jupyter-widgets/base",
            "_view_module_version": "1.2.0",
            "_view_name": "LayoutView",
            "align_content": null,
            "align_items": null,
            "align_self": null,
            "border": null,
            "bottom": null,
            "display": null,
            "flex": null,
            "flex_flow": null,
            "grid_area": null,
            "grid_auto_columns": null,
            "grid_auto_flow": null,
            "grid_auto_rows": null,
            "grid_column": null,
            "grid_gap": null,
            "grid_row": null,
            "grid_template_areas": null,
            "grid_template_columns": null,
            "grid_template_rows": null,
            "height": null,
            "justify_content": null,
            "justify_items": null,
            "left": null,
            "margin": null,
            "max_height": null,
            "max_width": null,
            "min_height": null,
            "min_width": null,
            "object_fit": null,
            "object_position": null,
            "order": null,
            "overflow": null,
            "overflow_x": null,
            "overflow_y": null,
            "padding": null,
            "right": null,
            "top": null,
            "visibility": null,
            "width": null
          }
        },
        "aa57cea39d0f4b9a800e5b675a51cad5": {
          "model_module": "@jupyter-widgets/controls",
          "model_name": "DescriptionStyleModel",
          "model_module_version": "1.5.0",
          "state": {
            "_model_module": "@jupyter-widgets/controls",
            "_model_module_version": "1.5.0",
            "_model_name": "DescriptionStyleModel",
            "_view_count": null,
            "_view_module": "@jupyter-widgets/base",
            "_view_module_version": "1.2.0",
            "_view_name": "StyleView",
            "description_width": ""
          }
        }
      }
    }
  },
  "cells": [
    {
      "cell_type": "markdown",
      "metadata": {
        "id": "view-in-github",
        "colab_type": "text"
      },
      "source": [
        "<a href=\"https://colab.research.google.com/github/fladdict/stable-diffusion/blob/main/super_simple_stable_diffusion.ipynb\" target=\"_parent\"><img src=\"https://colab.research.google.com/assets/colab-badge.svg\" alt=\"Open In Colab\"/></a>"
      ]
    },
    {
      "cell_type": "markdown",
      "source": [
        "# SSSD, Super Simple Stable Diffusion\n",
        "\n",
        "Lightwaight easy to use Stable Diffusion Kit.\n",
        "Just run all cells. \n",
        "\n",
        "Only you need is [Hugging Face's user setting page](https://huggingface.co/settings/tokens).\n",
        "\n",
        "## LICENSE\n",
        "[Stable Diffusion](https://github.com/CompVis/stable-diffusion/blob/main/LICENSE)\n",
        "\n",
        "[Diffuser](https://github.com/huggingface/diffusers/blob/main/LICENSE)"
      ],
      "metadata": {
        "id": "Mn4TYBCzPTE_"
      }
    },
    {
      "cell_type": "markdown",
      "source": [
        "## Setup Google Drive (If needed)"
      ],
      "metadata": {
        "id": "1mMT_G5RPYUq"
      }
    },
    {
      "cell_type": "markdown",
      "source": [
        "## Install Library"
      ],
      "metadata": {
        "id": "_hbawQKHpkrr"
      }
    },
    {
      "cell_type": "code",
      "execution_count": null,
      "metadata": {
        "id": "pyoxzbMxnBex"
      },
      "outputs": [],
      "source": [
        "#Install Lib\n",
        "!pip install diffusers==0.4.0 transformers scipy ftfy"
      ]
    },
    {
      "cell_type": "markdown",
      "source": [
        "## Login to Hugging Face\n",
        "\n",
        "First you need go to Huggingface and accept [stable diffusion model's LICENCE ](https://huggingface.co/spaces/CompVis/stable-diffusion-license)\n",
        "\n",
        "Get ACCESS TOKEN from [Huggingface's user setting page](https://huggingface.co/settings/tokens).\n",
        "\n",
        "Run a cell below and fill ACCESS TOKEN (read) into the login form."
      ],
      "metadata": {
        "id": "seJw39zMpflA"
      }
    },
    {
      "cell_type": "code",
      "source": [
        "#Get access token from Hugging Face\n",
        "from huggingface_hub import notebook_login\n",
        "notebook_login()"
      ],
      "metadata": {
        "colab": {
          "base_uri": "https://localhost:8080/",
          "height": 327,
          "referenced_widgets": [
            "0bcfc35ae2734382a5e39be681f30897",
            "93728f7261cd478f957412f94d6e9321",
            "282a6479c62949f98d10e12cd58cc958",
            "b3d692ebf3174d3b9844318be0d7cd9c",
            "93fa24a53d714aaeb9ec956947ca561f",
            "ad68ff72b14a4e8997274f3b6fba30e6",
            "bd02c848396e41d6ac95e7435d15db95",
            "0d2500ea06b142c0a4c5290d414d6713",
            "edaf9dab6cc74d9789ee77130d513216",
            "11f9649d96c0416ba87874b4ee08de87",
            "03a7c742cdd6444285572d9223c0e39b",
            "fbb9bf80e362481e91da04d68507b2a2",
            "650365e66cb54236b06c4084f301f570",
            "aa57cea39d0f4b9a800e5b675a51cad5"
          ]
        },
        "id": "aLzcV9IKnoZV",
        "outputId": "4cb38968-cdf6-4162-c231-e468522267a2"
      },
      "execution_count": 2,
      "outputs": [
        {
          "output_type": "stream",
          "name": "stdout",
          "text": [
            "Login successful\n",
            "Your token has been saved to /root/.huggingface/token\n"
          ]
        }
      ]
    },
    {
      "cell_type": "markdown",
      "source": [
        "## Function Setup"
      ],
      "metadata": {
        "id": "WYkj7P6kz98Y"
      }
    },
    {
      "cell_type": "code",
      "source": [
        "import torch\n",
        "from diffusers import StableDiffusionPipeline\n",
        "from diffusers import StableDiffusionImg2ImgPipeline\n",
        "import numpy as np\n",
        "import PIL\n",
        "import gc\n",
        "import os\n",
        "\n",
        "def save_image(directory_path, file_name, img):\n",
        "  os.makedirs(directory_path, exist_ok = True)\n",
        "  img.save(f\"{directory_path}/{file_name}\")\n",
        "\n",
        "\n",
        "\n",
        "def clear_memory():\n",
        "  gc.collect()\n",
        "  torch.cuda.empty_cache()\n",
        "\n",
        "\n",
        "\n",
        "def get_txt2img_pipeline(model_path = \"CompVis/stable-diffusion-v1-4\"):\n",
        "  pipeline = StableDiffusionPipeline.from_pretrained(model_path, \n",
        "                                                     revision=\"fp16\", \n",
        "                                                     torch_dtype=torch.float16,\n",
        "                                                     use_auth_token=True)\n",
        "  pipeline.to(\"cuda\")\n",
        "  pipeline.enable_attention_slicing()\n",
        "  return pipeline\n",
        "\n",
        "\n",
        "\n",
        "\n",
        "def get_img2img_pipeline(model_path = \"CompVis/stable-diffusion-v1-4\"):\n",
        "  pipeline = StableDiffusionImg2ImgPipeline.from_pretrained(model_path, \n",
        "                                                            revision=\"fp16\", \n",
        "                                                            torch_dtype=torch.float16,\n",
        "                                                            use_auth_token=True)\n",
        "  pipeline.to(\"cuda\")\n",
        "  pipeline.enable_attention_slicing()\n",
        "  return pipeline\n",
        "\n",
        "pipe = None\n",
        "last_model_path = None"
      ],
      "metadata": {
        "id": "PF_WVK8jnjkp"
      },
      "execution_count": 3,
      "outputs": []
    },
    {
      "cell_type": "code",
      "source": [
        "#Additional Feature\n",
        "# if you use UPPER CASE text in a prompt, it randomly swap the woard from this dictionary.\n",
        "\n",
        "decorate_dict = {\n",
        "    \"COLOR\":[\"red\", \"green\", \"blue\", \"yellow\", \"orange\", \"purple\", \"black\", \"white\", \"dark\", \"blight\", \"gold\", \"silver\", \"brown\"],\n",
        "    \"GENDER\":[\"male\",\"female\",\"unisex\"],\n",
        "    \"MODIFIER\":[\"UnrealEngine\",\"Octane Render\", \"8k\", \"High Qulity\", \"Beautiful\", \"Art Lens\", \"Award Wining\", \"Pixiv Trending\", \"Masterpiece\", \"Epic\"]\n",
        "}\n",
        "\n",
        "\n",
        "def decorate_prompt(prompt, dict):\n",
        "    for index, key in enumerate(dict):\n",
        "      while(prompt.find(key)!=-1):\n",
        "        words = dict[key];\n",
        "        word = words[random.randint(0,len(words)-1)];\n",
        "        prompt = prompt.replace(key, word, 1);\n",
        "    return prompt;"
      ],
      "metadata": {
        "id": "gWkQyLnXqQkl"
      },
      "execution_count": 4,
      "outputs": []
    },
    {
      "cell_type": "markdown",
      "source": [
        "# Diffuse!!!\n",
        "\n",
        "Once you setup, just run only this cell"
      ],
      "metadata": {
        "id": "-TGcoo26z5IY"
      }
    },
    {
      "cell_type": "code",
      "source": [
        "from torch import autocast\n",
        "from datetime import datetime\n",
        "import random\n",
        "from PIL import Image\n",
        "\n",
        "#@markdown ## General Settings\n",
        "prompt = \"\" #@param {type:\"string\"}\n",
        "negative_prompt = \"blur, unsharp, unclear, noise, rough sketch, speed painting, bad drawing\" #@param {type:\"string\"}\n",
        "width = 768 #@param {type:\"integer\"}\n",
        "height = 512 #@param {type:\"integer\"}\n",
        "\n",
        "guidance_scale = 7.5 #@param {type:\"number\"}\n",
        "num_inference_steps = 50 #@param {type:\"number\"}\n",
        "seed = None #@param\n",
        "num = 3 #@param {type:\"integer\"}\n",
        "\n",
        "#@markdown -\n",
        "#@markdown ## Init Image settings\n",
        "#@markdown File path used for base Image. \n",
        "init_image = \"/content/download-9.png\" #@param {type:\"string\"}\n",
        "strength = 0.9 #@param {type:\"number\"}\n",
        "\n",
        "#@markdown - \n",
        "#@markdown ## Loopback\n",
        "#@markdown If True, it takes time but high quality\n",
        "is_loopback = True #@param {type:\"boolean\"}\n",
        "loopback_num = 2 #@param {type:\"integer\"}\n",
        "\n",
        "#@markdown -\n",
        "#@markdown ## Model Settings\n",
        "#@markdown Select huggingface's model card model path\n",
        "\n",
        "model_path = \"CompVis/stable-diffusion-v1-4\" #@param {type:\"string\"} [\"CompVis/stable-diffusion-v1-4\", \"naclbit/trinart_stable_diffusion_v2\", \"hakurei/waifu-diffusion\"] {allow-input: true}\n",
        "\n",
        "#@markdown -\n",
        "#@markdown ## Export Settings\n",
        "\n",
        "save_directory_path = \"/content/output/test\" #@param {type:\"string\"}\n",
        "save_file_prefix = \"SD\" #@param {type:\"string\"}\n",
        "is_save_image = True #@param {type:\"boolean\"}\n",
        "is_display_image = True #@param {type:\"boolean\"}\n",
        "\n",
        "clear_memory()\n",
        "\n",
        "with autocast(\"cuda\"):\n",
        "  if init_image != None:\n",
        "    _init_image = Image.open(init_image)\n",
        "  for index in range(num):\n",
        "    _seed = random.randint(0, 2**32) if seed == None else seed\n",
        "    generator = torch.Generator(\"cuda\").manual_seed(_seed)\n",
        "\n",
        "    _prompt = decorate_prompt(prompt, decorate_dict)\n",
        "    _negative_prompt = decorate_prompt(negative_prompt, decorate_dict)\n",
        "\n",
        "    if init_image != None and init_image != \"\" :\n",
        "      if pipe == None or type(pipe) != StableDiffusionImg2ImgPipeline or model_path != last_model_path:\n",
        "        pipe = get_img2img_pipeline(model_path)\n",
        "        last_model_path = model_path\n",
        "        \n",
        "      result = pipe(\n",
        "          init_image = _init_image,\n",
        "          prompt = _prompt,\n",
        "          negative_prompt = _negative_prompt,\n",
        "          width = width,\n",
        "          height = height,\n",
        "          strength = strength,\n",
        "          guidance_scale = guidance_scale,\n",
        "          num_inference_steps = num_inference_steps,\n",
        "          generator = generator\n",
        "      )\n",
        "    else:\n",
        "      if pipe == None or type(pipe) != StableDiffusionPipeline or model_path != last_model_path:\n",
        "        pipe = get_txt2img_pipeline(model_path)\n",
        "        last_model_path = model_path\n",
        "      result = pipe(\n",
        "          prompt = _prompt,\n",
        "          negative_prompt = _negative_prompt,\n",
        "          width = width,\n",
        "          height = height,\n",
        "          strength = strength,\n",
        "          guidance_scale = guidance_scale,\n",
        "          num_inference_steps = num_inference_steps,\n",
        "          generator = generator\n",
        "      )\n",
        "\n",
        "    image = result[\"sample\"][0]\n",
        "    is_nswf = result[\"nsfw_content_detected\"][0]\n",
        "\n",
        "    if is_display_image == True:\n",
        "      display(image)\n",
        "\n",
        "    if is_save_image == True and is_nswf==False:\n",
        "      file_id = datetime.today().strftime('%Y-%m-%d-%H-%M-%S')\n",
        "      save_image(save_directory_path, f\"{save_file_prefix}-{file_id}.png\", image)\n",
        "\n"
      ],
      "metadata": {
        "id": "OZI3YNWWHIKP"
      },
      "execution_count": null,
      "outputs": []
    },
    {
      "cell_type": "markdown",
      "source": [
        "# Cheat Sheet\n",
        "\n"
      ],
      "metadata": {
        "id": "yeemCWQkJZ6L"
      }
    },
    {
      "cell_type": "markdown",
      "source": [
        "## Prompt for beginners\n",
        "\n",
        "\n",
        "```\n",
        "<MEDIUM> of <THEME> by <ARTIST> in the style of <STYLE>, <MODIFIER>, <MODIFIER>\n",
        "```\n",
        "\n",
        "```\n",
        "Oil painting of landscape by Rembrandt in the style of impressionism, high quality, masterpiece\n",
        "```"
      ],
      "metadata": {
        "id": "UqvXgM8LnHY4"
      }
    },
    {
      "cell_type": "markdown",
      "source": [
        "## Style\n",
        "* Ancient Egyptian Art\n",
        "* Ancient Greek Art\n",
        "* Byzantine Art\n",
        "* Gothic\n",
        "* Medieval Art\n",
        "* Renaissance\n",
        "* Mannerism\n",
        "* High Renaissance\n",
        "* Baroque\n",
        "* Rococo\n",
        "* Classicism\n",
        "* Neo Classicism\n",
        "* Academicism\n",
        "* Romanticism\n",
        "* Orientalism\n",
        "* Realism\n",
        "* Primitivism\n",
        "* Surrealism\n",
        "* Impressionism\n",
        "* Symbolism\n",
        "* Pointillism\n",
        "* Abstract Art\n",
        "* Japonism\n",
        "* Art Deco\n",
        "* Fauvism\n",
        "* Art Nouveau\n",
        "* Expressionism\n",
        "* Cubism\n",
        "* Futurism\n",
        "* Dada\n",
        "* Constructivism\n",
        "* Outsider art\n",
        "* Concretism\n",
        "* Neo Expressionism\n",
        "* Pop Art\n",
        "* Modernism\n",
        "* Minimalism\n",
        "* Photorealism\n",
        "* Hyper-Realism"
      ],
      "metadata": {
        "id": "tDhq6CBBm7VM"
      }
    },
    {
      "cell_type": "markdown",
      "source": [
        "## Artist\n",
        "* Rembrandt\n"
      ],
      "metadata": {
        "id": "DFkpvIbRnAmr"
      }
    },
    {
      "cell_type": "markdown",
      "source": [
        "## Modifier\n",
        "* Masterpiece of\n",
        "* High quality\n",
        "* Photorealistic\n",
        "* Unrealengine\n",
        "* Octane Render\n",
        "* 8k\n",
        "* Insane detailing\n",
        "* Epic"
      ],
      "metadata": {
        "id": "0Sr7nyfomuRY"
      }
    }
  ]
}
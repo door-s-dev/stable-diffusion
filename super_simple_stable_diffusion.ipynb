{
  "nbformat": 4,
  "nbformat_minor": 0,
  "metadata": {
    "colab": {
      "provenance": [],
      "collapsed_sections": [],
      "mount_file_id": "1uEudBpPDvJd4vIZccypCcjCpxdYRTmQX",
      "authorship_tag": "ABX9TyP9VE7TtAT+2YT1sYl0yPlL",
      "include_colab_link": true
    },
    "kernelspec": {
      "name": "python3",
      "display_name": "Python 3"
    },
    "language_info": {
      "name": "python"
    },
    "accelerator": "GPU",
    "gpuClass": "standard",
    "widgets": {
      "application/vnd.jupyter.widget-state+json": {
        "d6f38c6de55045eb8656494c2907856e": {
          "model_module": "@jupyter-widgets/controls",
          "model_name": "VBoxModel",
          "model_module_version": "1.5.0",
          "state": {
            "_dom_classes": [],
            "_model_module": "@jupyter-widgets/controls",
            "_model_module_version": "1.5.0",
            "_model_name": "VBoxModel",
            "_view_count": null,
            "_view_module": "@jupyter-widgets/controls",
            "_view_module_version": "1.5.0",
            "_view_name": "VBoxView",
            "box_style": "",
            "children": [
              "IPY_MODEL_c0bb9ff1594148718dadac44476dcd9d",
              "IPY_MODEL_e4080f2bad5b45448888c82e32fa667c",
              "IPY_MODEL_72dc8bc3580c4a169fd7136b05171659",
              "IPY_MODEL_c65f53b008634dcfa4c021acbe2e78cd"
            ],
            "layout": "IPY_MODEL_3423c2be96254062bc8ff71872797d07"
          }
        },
        "c0bb9ff1594148718dadac44476dcd9d": {
          "model_module": "@jupyter-widgets/controls",
          "model_name": "HTMLModel",
          "model_module_version": "1.5.0",
          "state": {
            "_dom_classes": [],
            "_model_module": "@jupyter-widgets/controls",
            "_model_module_version": "1.5.0",
            "_model_name": "HTMLModel",
            "_view_count": null,
            "_view_module": "@jupyter-widgets/controls",
            "_view_module_version": "1.5.0",
            "_view_name": "HTMLView",
            "description": "",
            "description_tooltip": null,
            "layout": "IPY_MODEL_6053278fe7204f3e99eeeaabb042e009",
            "placeholder": "​",
            "style": "IPY_MODEL_2784ddc9c9d3452eb85f3fc8cfb64f85",
            "value": "<center> <img\nsrc=https://huggingface.co/front/assets/huggingface_logo-noborder.svg\nalt='Hugging Face'> <br> Copy a token from <a\nhref=\"https://huggingface.co/settings/tokens\" target=\"_blank\">your Hugging Face\ntokens page</a> and paste it below. <br> Immediately click login after copying\nyour token or it might be stored in plain text in this notebook file. </center>"
          }
        },
        "e4080f2bad5b45448888c82e32fa667c": {
          "model_module": "@jupyter-widgets/controls",
          "model_name": "PasswordModel",
          "model_module_version": "1.5.0",
          "state": {
            "_dom_classes": [],
            "_model_module": "@jupyter-widgets/controls",
            "_model_module_version": "1.5.0",
            "_model_name": "PasswordModel",
            "_view_count": null,
            "_view_module": "@jupyter-widgets/controls",
            "_view_module_version": "1.5.0",
            "_view_name": "PasswordView",
            "continuous_update": true,
            "description": "Token:",
            "description_tooltip": null,
            "disabled": false,
            "layout": "IPY_MODEL_b415f6be87b84808bf2297e89d0ff684",
            "placeholder": "​",
            "style": "IPY_MODEL_2d984564f2ed46f9a463f12082a0c518",
            "value": ""
          }
        },
        "72dc8bc3580c4a169fd7136b05171659": {
          "model_module": "@jupyter-widgets/controls",
          "model_name": "ButtonModel",
          "model_module_version": "1.5.0",
          "state": {
            "_dom_classes": [],
            "_model_module": "@jupyter-widgets/controls",
            "_model_module_version": "1.5.0",
            "_model_name": "ButtonModel",
            "_view_count": null,
            "_view_module": "@jupyter-widgets/controls",
            "_view_module_version": "1.5.0",
            "_view_name": "ButtonView",
            "button_style": "",
            "description": "Login",
            "disabled": false,
            "icon": "",
            "layout": "IPY_MODEL_c2987480c39a408aadb13be61f666310",
            "style": "IPY_MODEL_7892ebbc1f3b4936be641e7fcbf5f94d",
            "tooltip": ""
          }
        },
        "c65f53b008634dcfa4c021acbe2e78cd": {
          "model_module": "@jupyter-widgets/controls",
          "model_name": "HTMLModel",
          "model_module_version": "1.5.0",
          "state": {
            "_dom_classes": [],
            "_model_module": "@jupyter-widgets/controls",
            "_model_module_version": "1.5.0",
            "_model_name": "HTMLModel",
            "_view_count": null,
            "_view_module": "@jupyter-widgets/controls",
            "_view_module_version": "1.5.0",
            "_view_name": "HTMLView",
            "description": "",
            "description_tooltip": null,
            "layout": "IPY_MODEL_884794b0aae3467291e4aa09f9996ade",
            "placeholder": "​",
            "style": "IPY_MODEL_06c59f6d24fa435db17a069d2be6eabd",
            "value": "\n<b>Pro Tip:</b> If you don't already have one, you can create a dedicated\n'notebooks' token with 'write' access, that you can then easily reuse for all\nnotebooks. </center>"
          }
        },
        "3423c2be96254062bc8ff71872797d07": {
          "model_module": "@jupyter-widgets/base",
          "model_name": "LayoutModel",
          "model_module_version": "1.2.0",
          "state": {
            "_model_module": "@jupyter-widgets/base",
            "_model_module_version": "1.2.0",
            "_model_name": "LayoutModel",
            "_view_count": null,
            "_view_module": "@jupyter-widgets/base",
            "_view_module_version": "1.2.0",
            "_view_name": "LayoutView",
            "align_content": null,
            "align_items": "center",
            "align_self": null,
            "border": null,
            "bottom": null,
            "display": "flex",
            "flex": null,
            "flex_flow": "column",
            "grid_area": null,
            "grid_auto_columns": null,
            "grid_auto_flow": null,
            "grid_auto_rows": null,
            "grid_column": null,
            "grid_gap": null,
            "grid_row": null,
            "grid_template_areas": null,
            "grid_template_columns": null,
            "grid_template_rows": null,
            "height": null,
            "justify_content": null,
            "justify_items": null,
            "left": null,
            "margin": null,
            "max_height": null,
            "max_width": null,
            "min_height": null,
            "min_width": null,
            "object_fit": null,
            "object_position": null,
            "order": null,
            "overflow": null,
            "overflow_x": null,
            "overflow_y": null,
            "padding": null,
            "right": null,
            "top": null,
            "visibility": null,
            "width": "50%"
          }
        },
        "6053278fe7204f3e99eeeaabb042e009": {
          "model_module": "@jupyter-widgets/base",
          "model_name": "LayoutModel",
          "model_module_version": "1.2.0",
          "state": {
            "_model_module": "@jupyter-widgets/base",
            "_model_module_version": "1.2.0",
            "_model_name": "LayoutModel",
            "_view_count": null,
            "_view_module": "@jupyter-widgets/base",
            "_view_module_version": "1.2.0",
            "_view_name": "LayoutView",
            "align_content": null,
            "align_items": null,
            "align_self": null,
            "border": null,
            "bottom": null,
            "display": null,
            "flex": null,
            "flex_flow": null,
            "grid_area": null,
            "grid_auto_columns": null,
            "grid_auto_flow": null,
            "grid_auto_rows": null,
            "grid_column": null,
            "grid_gap": null,
            "grid_row": null,
            "grid_template_areas": null,
            "grid_template_columns": null,
            "grid_template_rows": null,
            "height": null,
            "justify_content": null,
            "justify_items": null,
            "left": null,
            "margin": null,
            "max_height": null,
            "max_width": null,
            "min_height": null,
            "min_width": null,
            "object_fit": null,
            "object_position": null,
            "order": null,
            "overflow": null,
            "overflow_x": null,
            "overflow_y": null,
            "padding": null,
            "right": null,
            "top": null,
            "visibility": null,
            "width": null
          }
        },
        "2784ddc9c9d3452eb85f3fc8cfb64f85": {
          "model_module": "@jupyter-widgets/controls",
          "model_name": "DescriptionStyleModel",
          "model_module_version": "1.5.0",
          "state": {
            "_model_module": "@jupyter-widgets/controls",
            "_model_module_version": "1.5.0",
            "_model_name": "DescriptionStyleModel",
            "_view_count": null,
            "_view_module": "@jupyter-widgets/base",
            "_view_module_version": "1.2.0",
            "_view_name": "StyleView",
            "description_width": ""
          }
        },
        "b415f6be87b84808bf2297e89d0ff684": {
          "model_module": "@jupyter-widgets/base",
          "model_name": "LayoutModel",
          "model_module_version": "1.2.0",
          "state": {
            "_model_module": "@jupyter-widgets/base",
            "_model_module_version": "1.2.0",
            "_model_name": "LayoutModel",
            "_view_count": null,
            "_view_module": "@jupyter-widgets/base",
            "_view_module_version": "1.2.0",
            "_view_name": "LayoutView",
            "align_content": null,
            "align_items": null,
            "align_self": null,
            "border": null,
            "bottom": null,
            "display": null,
            "flex": null,
            "flex_flow": null,
            "grid_area": null,
            "grid_auto_columns": null,
            "grid_auto_flow": null,
            "grid_auto_rows": null,
            "grid_column": null,
            "grid_gap": null,
            "grid_row": null,
            "grid_template_areas": null,
            "grid_template_columns": null,
            "grid_template_rows": null,
            "height": null,
            "justify_content": null,
            "justify_items": null,
            "left": null,
            "margin": null,
            "max_height": null,
            "max_width": null,
            "min_height": null,
            "min_width": null,
            "object_fit": null,
            "object_position": null,
            "order": null,
            "overflow": null,
            "overflow_x": null,
            "overflow_y": null,
            "padding": null,
            "right": null,
            "top": null,
            "visibility": null,
            "width": null
          }
        },
        "2d984564f2ed46f9a463f12082a0c518": {
          "model_module": "@jupyter-widgets/controls",
          "model_name": "DescriptionStyleModel",
          "model_module_version": "1.5.0",
          "state": {
            "_model_module": "@jupyter-widgets/controls",
            "_model_module_version": "1.5.0",
            "_model_name": "DescriptionStyleModel",
            "_view_count": null,
            "_view_module": "@jupyter-widgets/base",
            "_view_module_version": "1.2.0",
            "_view_name": "StyleView",
            "description_width": ""
          }
        },
        "c2987480c39a408aadb13be61f666310": {
          "model_module": "@jupyter-widgets/base",
          "model_name": "LayoutModel",
          "model_module_version": "1.2.0",
          "state": {
            "_model_module": "@jupyter-widgets/base",
            "_model_module_version": "1.2.0",
            "_model_name": "LayoutModel",
            "_view_count": null,
            "_view_module": "@jupyter-widgets/base",
            "_view_module_version": "1.2.0",
            "_view_name": "LayoutView",
            "align_content": null,
            "align_items": null,
            "align_self": null,
            "border": null,
            "bottom": null,
            "display": null,
            "flex": null,
            "flex_flow": null,
            "grid_area": null,
            "grid_auto_columns": null,
            "grid_auto_flow": null,
            "grid_auto_rows": null,
            "grid_column": null,
            "grid_gap": null,
            "grid_row": null,
            "grid_template_areas": null,
            "grid_template_columns": null,
            "grid_template_rows": null,
            "height": null,
            "justify_content": null,
            "justify_items": null,
            "left": null,
            "margin": null,
            "max_height": null,
            "max_width": null,
            "min_height": null,
            "min_width": null,
            "object_fit": null,
            "object_position": null,
            "order": null,
            "overflow": null,
            "overflow_x": null,
            "overflow_y": null,
            "padding": null,
            "right": null,
            "top": null,
            "visibility": null,
            "width": null
          }
        },
        "7892ebbc1f3b4936be641e7fcbf5f94d": {
          "model_module": "@jupyter-widgets/controls",
          "model_name": "ButtonStyleModel",
          "model_module_version": "1.5.0",
          "state": {
            "_model_module": "@jupyter-widgets/controls",
            "_model_module_version": "1.5.0",
            "_model_name": "ButtonStyleModel",
            "_view_count": null,
            "_view_module": "@jupyter-widgets/base",
            "_view_module_version": "1.2.0",
            "_view_name": "StyleView",
            "button_color": null,
            "font_weight": ""
          }
        },
        "884794b0aae3467291e4aa09f9996ade": {
          "model_module": "@jupyter-widgets/base",
          "model_name": "LayoutModel",
          "model_module_version": "1.2.0",
          "state": {
            "_model_module": "@jupyter-widgets/base",
            "_model_module_version": "1.2.0",
            "_model_name": "LayoutModel",
            "_view_count": null,
            "_view_module": "@jupyter-widgets/base",
            "_view_module_version": "1.2.0",
            "_view_name": "LayoutView",
            "align_content": null,
            "align_items": null,
            "align_self": null,
            "border": null,
            "bottom": null,
            "display": null,
            "flex": null,
            "flex_flow": null,
            "grid_area": null,
            "grid_auto_columns": null,
            "grid_auto_flow": null,
            "grid_auto_rows": null,
            "grid_column": null,
            "grid_gap": null,
            "grid_row": null,
            "grid_template_areas": null,
            "grid_template_columns": null,
            "grid_template_rows": null,
            "height": null,
            "justify_content": null,
            "justify_items": null,
            "left": null,
            "margin": null,
            "max_height": null,
            "max_width": null,
            "min_height": null,
            "min_width": null,
            "object_fit": null,
            "object_position": null,
            "order": null,
            "overflow": null,
            "overflow_x": null,
            "overflow_y": null,
            "padding": null,
            "right": null,
            "top": null,
            "visibility": null,
            "width": null
          }
        },
        "06c59f6d24fa435db17a069d2be6eabd": {
          "model_module": "@jupyter-widgets/controls",
          "model_name": "DescriptionStyleModel",
          "model_module_version": "1.5.0",
          "state": {
            "_model_module": "@jupyter-widgets/controls",
            "_model_module_version": "1.5.0",
            "_model_name": "DescriptionStyleModel",
            "_view_count": null,
            "_view_module": "@jupyter-widgets/base",
            "_view_module_version": "1.2.0",
            "_view_name": "StyleView",
            "description_width": ""
          }
        }
      }
    }
  },
  "cells": [
    {
      "cell_type": "markdown",
      "metadata": {
        "id": "view-in-github",
        "colab_type": "text"
      },
      "source": [
        "<a href=\"https://colab.research.google.com/github/fladdict/stable-diffusion/blob/main/super_simple_stable_diffusion.ipynb\" target=\"_parent\"><img src=\"https://colab.research.google.com/assets/colab-badge.svg\" alt=\"Open In Colab\"/></a>"
      ]
    },
    {
      "cell_type": "markdown",
      "source": [
        "# SSSD, Super Simple Stable Diffusion\n",
        "\n",
        "Lightwaight easy to use Stable Diffusion Kit.\n",
        "Just run all cells. Only you need is [Hugging Face's user setting page](https://huggingface.co/settings/tokens)."
      ],
      "metadata": {
        "id": "Mn4TYBCzPTE_"
      }
    },
    {
      "cell_type": "markdown",
      "source": [
        "## Setup Google Drive (If needed)"
      ],
      "metadata": {
        "id": "1mMT_G5RPYUq"
      }
    },
    {
      "cell_type": "code",
      "source": [
        "#Mount Google Drive\n",
        "from google.colab import drive\n",
        "drive.mount('/content/drive')"
      ],
      "metadata": {
        "id": "Vi17DORD9533"
      },
      "execution_count": null,
      "outputs": []
    },
    {
      "cell_type": "markdown",
      "source": [
        "## Install Library"
      ],
      "metadata": {
        "id": "_hbawQKHpkrr"
      }
    },
    {
      "cell_type": "code",
      "execution_count": 1,
      "metadata": {
        "id": "pyoxzbMxnBex",
        "colab": {
          "base_uri": "https://localhost:8080/"
        },
        "outputId": "d2ebb5d1-2596-4ef4-d33b-4d3fcdcf3557"
      },
      "outputs": [
        {
          "output_type": "stream",
          "name": "stdout",
          "text": [
            "Installing collected packages: tokenizers, huggingface-hub, transformers, ftfy, diffusers\n",
            "Successfully installed diffusers-0.4.0 ftfy-6.1.1 huggingface-hub-0.10.0 tokenizers-0.12.1 transformers-4.22.2\n"
          ]
        }
      ],
      "source": [
        "#Install Lib\n",
        "!pip install diffusers==0.4.0 transformers scipy ftfy"
      ]
    },
    {
      "cell_type": "markdown",
      "source": [
        "## Login to Hugging Face\n",
        "\n",
        "Ges ACCESS TOKEN from [Hugging Face's user setting page](https://huggingface.co/settings/tokens).\n",
        "\n",
        "Run a cell below and fill ACCESS TOKEN into the form."
      ],
      "metadata": {
        "id": "seJw39zMpflA"
      }
    },
    {
      "cell_type": "code",
      "source": [
        "#Get access token from Hugging Face\n",
        "from huggingface_hub import notebook_login\n",
        "notebook_login()"
      ],
      "metadata": {
        "colab": {
          "base_uri": "https://localhost:8080/",
          "height": 299,
          "referenced_widgets": [
            "d6f38c6de55045eb8656494c2907856e",
            "c0bb9ff1594148718dadac44476dcd9d",
            "e4080f2bad5b45448888c82e32fa667c",
            "72dc8bc3580c4a169fd7136b05171659",
            "c65f53b008634dcfa4c021acbe2e78cd",
            "3423c2be96254062bc8ff71872797d07",
            "6053278fe7204f3e99eeeaabb042e009",
            "2784ddc9c9d3452eb85f3fc8cfb64f85",
            "b415f6be87b84808bf2297e89d0ff684",
            "2d984564f2ed46f9a463f12082a0c518",
            "c2987480c39a408aadb13be61f666310",
            "7892ebbc1f3b4936be641e7fcbf5f94d",
            "884794b0aae3467291e4aa09f9996ade",
            "06c59f6d24fa435db17a069d2be6eabd"
          ]
        },
        "id": "aLzcV9IKnoZV",
        "outputId": "415b3e77-80fc-4c6d-cee8-9640361272a1"
      },
      "execution_count": 2,
      "outputs": [
        {
          "output_type": "stream",
          "name": "stdout",
          "text": [
            "Login successful\n",
            "Your token has been saved to /root/.huggingface/token\n"
          ]
        }
      ]
    },
    {
      "cell_type": "markdown",
      "source": [
        "## Function Setup"
      ],
      "metadata": {
        "id": "WYkj7P6kz98Y"
      }
    },
    {
      "cell_type": "code",
      "source": [
        "import torch\n",
        "from diffusers import StableDiffusionPipeline\n",
        "from diffusers import StableDiffusionImg2ImgPipeline\n",
        "import numpy as np\n",
        "import PIL\n",
        "import gc\n",
        "import os\n",
        "\n",
        "def save_image(directory_path, file_name, img):\n",
        "  os.makedirs(directory_path, exist_ok = True)\n",
        "  img.save(f\"{directory_path}/{file_name}\")\n",
        "\n",
        "\n",
        "\n",
        "def clear_memory():\n",
        "  gc.collect()\n",
        "  torch.cuda.empty_cache()\n",
        "\n",
        "\n",
        "\n",
        "def get_txt2img_pipeline(model_path = \"CompVis/stable-diffusion-v1-4\"):\n",
        "  pipeline = StableDiffusionPipeline.from_pretrained(model_path, \n",
        "                                                     revision=\"fp16\", \n",
        "                                                     torch_dtype=torch.float16,\n",
        "                                                     use_auth_token=True)\n",
        "  pipeline.to(\"cuda\")\n",
        "  pipeline.enable_attention_slicing()\n",
        "  return pipeline\n",
        "\n",
        "\n",
        "\n",
        "\n",
        "def get_img2img_pipeline(model_path = \"CompVis/stable-diffusion-v1-4\"):\n",
        "  pipeline = StableDiffusionImg2ImgPipeline.from_pretrained(model_path, \n",
        "                                                            revision=\"fp16\", \n",
        "                                                            torch_dtype=torch.float16,\n",
        "                                                            use_auth_token=True)\n",
        "  pipeline.to(\"cuda\")\n",
        "  pipeline.enable_attention_slicing()\n",
        "  return pipeline\n",
        "\n",
        "pipe = None\n",
        "last_model_path = None"
      ],
      "metadata": {
        "id": "PF_WVK8jnjkp"
      },
      "execution_count": 9,
      "outputs": []
    },
    {
      "cell_type": "markdown",
      "source": [
        "# Diffuse!!!\n",
        "\n",
        "Once you setup, just run only this cell"
      ],
      "metadata": {
        "id": "-TGcoo26z5IY"
      }
    },
    {
      "cell_type": "code",
      "source": [
        "from torch import autocast\n",
        "from datetime import datetime\n",
        "import random\n",
        "\n",
        "#@markdown ## General Settings\n",
        "prompt = \"reimu hakurei, concept art, high quality, beautiful, pixiv trending\" #@param {type:\"string\"}\n",
        "negative_prompt = \"\" #@param {type:\"string\"}\n",
        "width = 512 #@param {type:\"integer\"}\n",
        "height = 512 #@param {type:\"integer\"}\n",
        "\n",
        "guidance_scale = 7.5 #@param {type:\"number\"}\n",
        "num_inference_steps = 50 #@param {type:\"number\"}\n",
        "seed = None #@param\n",
        "num = 3 #@param {type:\"integer\"}\n",
        "\n",
        "#@markdown -\n",
        "#@markdown ## Init Image settings\n",
        "#@markdown File path used for base Image. \n",
        "init_image = \"\" #@param {type:\"string\"}\n",
        "strength = 0.8 #@param {type:\"number\"}\n",
        "\n",
        "#@markdown -\n",
        "#@markdown ## Model Settings\n",
        "#@markdown Select your model or input your model path\n",
        "\n",
        "model_path = \"CompVis/stable-diffusion-v1-4\" #@param {type:\"string\"} [\"CompVis/stable-diffusion-v1-4\", \"rinna/japanese-stable-diffusion\", \"hakurei/waifu-diffusion\", \"hakurei/waifu-diffusion-v1-3\", \"doohickey/trinart-waifu-diffusion-50-50\", \"sd-dreambooth-library/disco-diffusion-style\"] {allow-input: true}\n",
        "\n",
        "#@markdown -\n",
        "#@markdown ## Export Settings\n",
        "\n",
        "save_directory_path = \"/content/output/test\" #@param {type:\"string\"}\n",
        "save_file_prefix = \"SD\" #@param {type:\"string\"}\n",
        "is_save_image = True #@param {type:\"boolean\"}\n",
        "is_display_image = True #@param {type:\"boolean\"}\n",
        "\n",
        "clear_memory()\n",
        "\n",
        "with autocast(\"cuda\"):\n",
        "  for index in range(num):\n",
        "    _seed = random.randint(0, 2**32) if seed == None else seed\n",
        "    generator = torch.Generator(\"cuda\").manual_seed(_seed)\n",
        "\n",
        "    if init_image != None and init_image != \"\" :\n",
        "      if pipe == None or type(pipe) != StableDiffusionImg2ImgPipeline or model_path != last_model_path:\n",
        "        pipe = get_img2img_pipeline(model_path)\n",
        "        last_model_path = model_path\n",
        "      image = pipe(\n",
        "          init_image = init_image,\n",
        "          prompt = prompt,\n",
        "          negative_prompt = negative_prompt,\n",
        "          width = width,\n",
        "          height = height,\n",
        "          strength = strength,\n",
        "          guidance_scale = guidance_scale,\n",
        "          num_inference_steps = num_inference_steps,\n",
        "          generator = generator\n",
        "      )[\"sample\"][0]\n",
        "    else:\n",
        "      if pipe == None or type(pipe) != StableDiffusionPipeline or model_path != last_model_path:\n",
        "        pipe = get_txt2img_pipeline(model_path)\n",
        "        last_model_path = model_path\n",
        "      image = pipe(\n",
        "          prompt = prompt,\n",
        "          negative_prompt = negative_prompt,\n",
        "          width = width,\n",
        "          height = height,\n",
        "          strength = strength,\n",
        "          guidance_scale = guidance_scale,\n",
        "          num_inference_steps = num_inference_steps,\n",
        "          generator = generator\n",
        "      )[\"sample\"][0]\n",
        "\n",
        "    if is_display_image == True:\n",
        "      display(image)\n",
        "\n",
        "    if is_save_image == True:\n",
        "      file_id = datetime.today().strftime('%Y-%m-%d-%H-%M-%S')\n",
        "      save_image(save_directory_path, f\"{save_file_prefix}-{file_id}.png\", image)\n",
        "\n"
      ],
      "metadata": {
        "id": "OZI3YNWWHIKP",
        "cellView": "form"
      },
      "execution_count": null,
      "outputs": []
    },
    {
      "cell_type": "markdown",
      "source": [
        "# Cheat Sheet\n",
        "\n"
      ],
      "metadata": {
        "id": "yeemCWQkJZ6L"
      }
    },
    {
      "cell_type": "markdown",
      "source": [
        "## Prompt for beginners\n",
        "\n",
        "\n",
        "```\n",
        "<MEDIUM> of <THEME> by <ARTIST> in the style of <STYLE>, <MODIFIER>, <MODIFIER>\n",
        "```\n",
        "\n",
        "```\n",
        "Oil painting of landscape by Rembrandt in the style of impressionism, high quality, masterpiece\n",
        "```"
      ],
      "metadata": {
        "id": "UqvXgM8LnHY4"
      }
    },
    {
      "cell_type": "markdown",
      "source": [
        "## Style\n",
        "* Ancient Egyptian Art\n",
        "* Ancient Greek Art\n",
        "* Byzantine Art\n",
        "* Gothic\n",
        "* Medieval Art\n",
        "* Renaissance\n",
        "* Mannerism\n",
        "* High Renaissance\n",
        "* Baroque\n",
        "* Rococo\n",
        "* Classicism\n",
        "* Neo Classicism\n",
        "* Academicism\n",
        "* Romanticism\n",
        "* Orientalism\n",
        "* Realism\n",
        "* Primitivism\n",
        "* Surrealism\n",
        "* Impressionism\n",
        "* Symbolism\n",
        "* Pointillism\n",
        "* Abstract Art\n",
        "* Japonism\n",
        "* Art Deco\n",
        "* Fauvism\n",
        "* Art Nouveau\n",
        "* Expressionism\n",
        "* Cubism\n",
        "* Futurism\n",
        "* Dada\n",
        "* Constructivism\n",
        "* Outsider art\n",
        "* Concretism\n",
        "* Neo Expressionism\n",
        "* Pop Art\n",
        "* Modernism\n",
        "* Minimalism\n",
        "* Photorealism\n",
        "* Hyper-Realism"
      ],
      "metadata": {
        "id": "tDhq6CBBm7VM"
      }
    },
    {
      "cell_type": "markdown",
      "source": [
        "## Artist\n",
        "* Rembrandt\n"
      ],
      "metadata": {
        "id": "DFkpvIbRnAmr"
      }
    },
    {
      "cell_type": "markdown",
      "source": [
        "## Modifier\n",
        "* Masterpiece of\n",
        "* High quality\n",
        "* Photorealistic\n",
        "* Unrealengine\n",
        "* Octane Render\n",
        "* 8k\n",
        "* Insane detailing\n",
        "* Epic"
      ],
      "metadata": {
        "id": "0Sr7nyfomuRY"
      }
    }
  ]
}